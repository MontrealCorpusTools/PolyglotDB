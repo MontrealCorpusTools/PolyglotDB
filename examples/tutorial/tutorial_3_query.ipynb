{
 "cells": [
  {
   "cell_type": "markdown",
   "metadata": {},
   "source": [
    "# Tutorial 3: Getting information out\n",
    "\n",
    "First we begin with the standard import:"
   ]
  },
  {
   "cell_type": "code",
   "execution_count": null,
   "metadata": {},
   "outputs": [],
   "source": [
    "from polyglotdb import CorpusContext"
   ]
  },
  {
   "cell_type": "markdown",
   "metadata": {},
   "source": [
    "## Creating an initial query\n",
    "\n",
    "The first steps for generating a CSV file is to create a query that selects just the annotations of interest to our study.\n",
    "In this case, we want all syllables that are `stressed` (defined here as having a ``stress`` value equal to ``'1'``), at the beginning of\n",
    "words that are at the end of utterances."
   ]
  },
  {
   "cell_type": "code",
   "execution_count": null,
   "metadata": {},
   "outputs": [],
   "source": [
    "with CorpusContext('pg_tutorial') as c:\n",
    "    q = c.query_graph(c.syllable)\n",
    "    q = q.filter(c.syllable.stress == '1')\n",
    "\n",
    "    q = q.filter(c.syllable.begin == c.syllable.word.begin)\n",
    "\n",
    "    q = q.filter(c.syllable.word.end == c.syllable.word.utterance.end)\n",
    "\n",
    "    q = q.columns(c.syllable.label.column_name('syllable'),\n",
    "                  c.syllable.duration.column_name('syllable_duration'),\n",
    "                  c.syllable.word.label.column_name('word'),\n",
    "                  c.syllable.word.begin.column_name('word_begin'),\n",
    "                  c.syllable.word.end.column_name('word_end'),\n",
    "                  c.syllable.word.num_syllables.column_name('word_num_syllables'),\n",
    "                  c.syllable.word.stress_pattern.column_name('word_stress_pattern'),\n",
    "                  c.syllable.word.utterance.speech_rate.column_name('utterance_speech_rate'),\n",
    "                  c.syllable.speaker.name.column_name('speaker'),\n",
    "                  c.syllable.speaker.gender.column_name('speaker_gender'),\n",
    "                  c.syllable.discourse.name.column_name('file'),\n",
    "                  )\n",
    "\n",
    "    q = q.limit(10)\n",
    "    # Optional: Use order_by to enforce ordering on the output for easier comparison with the sample output.\n",
    "    q = q.order_by(c.syllable.label)\n",
    "    results = q.all()\n",
    "    print(results)"
   ]
  },
  {
   "cell_type": "markdown",
   "metadata": {},
   "source": [
    "With the above, we extract information of interest about the syllable, the word it is in, the utterance it is in, the\n",
    "speaker and the sound file (``discourse`` in PolyglotDB's API), as well as limit the results to 10 and print them all."
   ]
  },
  {
   "cell_type": "markdown",
   "metadata": {},
   "source": [
    "## Exporting a CSV file\n",
    "\n",
    "Once the query is constructed with filters and columns, exporting to a CSV is a simple method call on the query object.\n",
    "For completeness, the full code for the query and export is given below."
   ]
  },
  {
   "cell_type": "code",
   "execution_count": null,
   "metadata": {},
   "outputs": [],
   "source": [
    "export_path = '/mnt/e/pg_tutorial.csv'\n",
    "\n",
    "with CorpusContext('pg_tutorial') as c:\n",
    "    q = c.query_graph(c.syllable)\n",
    "    q = q.filter(c.syllable.stress == 1)\n",
    "\n",
    "    q = q.filter(c.syllable.begin == c.syllable.word.begin)\n",
    "\n",
    "    q = q.filter(c.syllable.word.end == c.syllable.word.utterance.end)\n",
    "\n",
    "    q = q.columns(c.syllable.label.column_name('syllable'),\n",
    "                  c.syllable.duration.column_name('syllable_duration'),\n",
    "                  c.syllable.word.label.column_name('word'),\n",
    "                  c.syllable.word.begin.column_name('word_begin'),\n",
    "                  c.syllable.word.end.column_name('word_end'),\n",
    "                  c.syllable.word.num_syllables.column_name('word_num_syllables'),\n",
    "                  c.syllable.word.stress_pattern.column_name('word_stress_pattern'),\n",
    "                  c.syllable.word.utterance.speech_rate.column_name('utterance_speech_rate'),\n",
    "                  c.syllable.speaker.name.column_name('speaker'),\n",
    "                  c.syllable.speaker.gender.column_name('speaker_gender'),\n",
    "                  c.syllable.discourse.name.column_name('file'),\n",
    "                  )\n",
    "    \n",
    "    # Optional: Use order_by to enforce ordering on the output for easier comparison with the sample output.\n",
    "    q = q.order_by(c.syllable.label)\n",
    "    q.to_csv(export_path)"
   ]
  },
  {
   "cell_type": "markdown",
   "metadata": {},
   "source": [
    "The CSV file generated will then be ready to open in other programs or in R for data analysis.\n",
    "\n",
    "See the [related ISCAN tutorial](https://iscan.readthedocs.io/en/latest/tutorials_iscan.html#examining-analysing-the-data) for R code on visualizing and analyzing the exported results."
   ]
  }
 ],
 "metadata": {
  "kernelspec": {
   "display_name": "Python 3",
   "language": "python",
   "name": "python3"
  },
  "language_info": {
   "codemirror_mode": {
    "name": "ipython",
    "version": 3
   },
   "file_extension": ".py",
   "mimetype": "text/x-python",
   "name": "python",
   "nbconvert_exporter": "python",
   "pygments_lexer": "ipython3",
   "version": "3.6.5"
  }
 },
 "nbformat": 4,
 "nbformat_minor": 2
}
